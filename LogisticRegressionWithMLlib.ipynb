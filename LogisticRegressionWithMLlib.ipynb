{
 "cells": [
  {
   "cell_type": "markdown",
   "metadata": {},
   "source": [
    "<h1><b>LOGISTIC REGRESSION FOR BANK MARKETING DATASET</b></h1>\n",
    "<i><b>Dataset : https://archive.ics.uci.edu/ml/datasets/Bank+Marketing</b></i>"
   ]
  },
  {
   "cell_type": "markdown",
   "metadata": {},
   "source": [
    "This logistic Regression using MLlib is created using the reference tutorial created by <b>Juliet Hougland</b>. The GitHub code which this is based on is https://github.com/hougs/ds-for-telco/blob/master/ds-for-telco.ipynb"
   ]
  },
  {
   "cell_type": "code",
   "execution_count": 50,
   "metadata": {
    "collapsed": true
   },
   "outputs": [],
   "source": [
    "from pyspark.sql import SQLContext\n",
    "from pyspark import SparkContext\n",
    "from pyspark.sql.types import *\n",
    "import os\n",
    "import seaborn as sb\n",
    "import matplotlib.pyplot as plt"
   ]
  },
  {
   "cell_type": "code",
   "execution_count": 51,
   "metadata": {},
   "outputs": [],
   "source": [
    "# sc = SparkContext(appName='bankLoanAnalysis')\n",
    "sql_context = SQLContext(sc)\n",
    "schema = StructType([\n",
    "    StructField('age', DoubleType(), True),\n",
    "    StructField('job', StringType(), True),\n",
    "    StructField('martial', StringType(), True),\n",
    "    StructField('education', StringType(), True),\n",
    "    StructField('default', StringType(), True),\n",
    "    StructField('hosting', StringType(), True),\n",
    "    StructField('loan', StringType(), True),\n",
    "    StructField('contact', StringType(), True),\n",
    "    StructField('month', StringType(), True),\n",
    "    StructField('day_of_week', StringType(), True),\n",
    "    StructField('duration', DoubleType(), True),\n",
    "    StructField('campaign', DoubleType(), True),\n",
    "    StructField('pdays', DoubleType(), True),\n",
    "    StructField('previous', DoubleType(), True),\n",
    "    StructField('p_outcome', StringType(), True),\n",
    "    StructField('empvarrate', DoubleType(), True),\n",
    "    StructField('conspriceidx', DoubleType(), True),\n",
    "    StructField('consconfidx', DoubleType(), True),\n",
    "    StructField('euribor3m', DoubleType(), True),\n",
    "    StructField('nremployed', DoubleType(), True),\n",
    "    StructField('y', StringType(), True)])"
   ]
  },
  {
   "cell_type": "code",
   "execution_count": 52,
   "metadata": {},
   "outputs": [],
   "source": [
    "numeric_cols = ['age',\n",
    "                'duration',\n",
    "                'campaign',\n",
    "                'pdays',\n",
    "                'previous',\n",
    "                'empvarrate',\n",
    "                'conspriceidx',\n",
    "                'consconfidx',\n",
    "                'euribor3m',\n",
    "                'nremployed']\n",
    "categorical_cols = ['job',\n",
    "                    'martial',\n",
    "                    'education',\n",
    "                    'default',\n",
    "                    'hosting',\n",
    "                    'loan',\n",
    "                    'contact',\n",
    "                    'month',\n",
    "                    'day_of_week',\n",
    "                    'p_outcome']\n",
    "dir_name = '/home/dennis/Documents/Cloud\\ Computing/Project/Spark_Linear_Regression/'\n",
    "churn_data = sql_context.read\\\n",
    "    .format('com.databricks.spark.csv')\\\n",
    "    .load(os.path.join(dir_name, 'dataset', 'bank-additional', 'bank-additional.csv'),\n",
    "          schema=schema)"
   ]
  },
  {
   "cell_type": "code",
   "execution_count": 53,
   "metadata": {},
   "outputs": [
    {
     "data": {
      "image/png": "[encoded data removed]",
      "text/plain": [
       "<matplotlib.figure.Figure at 0x7f9b01548668>"
      ]
     },
     "metadata": {},
     "output_type": "display_data"
    }
   ],
   "source": [
    "sample_data = churn_data.sample(False, 0.5, 83).toPandas()\n",
    "corr = sample_data[numeric_cols].corr()\n",
    "heat_map = sb.heatmap(corr)\n",
    "plt.show(heat_map)"
   ]
  },
  {
   "cell_type": "code",
   "execution_count": 54,
   "metadata": {
    "collapsed": true
   },
   "outputs": [],
   "source": [
    "reduced_numeric_cols = ['age',\n",
    "                          'duration',\n",
    "                          'campaign',\n",
    "                          'pdays',\n",
    "                          'previous',\n",
    "                          'empvarrate',\n",
    "                          'conspriceidx',\n",
    "                          'consconfidx'\n",
    "                         ]"
   ]
  },
  {
   "cell_type": "code",
   "execution_count": 55,
   "metadata": {},
   "outputs": [],
   "source": [
    "from pyspark.ml.feature import StringIndexer\n",
    "from pyspark.ml.feature import VectorAssembler\n",
    "\n",
    "label_indexer = StringIndexer(inputCol = 'y', outputCol = 'label')\n",
    "assembler = VectorAssembler(\n",
    "    inputCols = reduced_numeric_cols,\n",
    "    outputCol = 'features')"
   ]
  },
  {
   "cell_type": "code",
   "execution_count": 56,
   "metadata": {},
   "outputs": [],
   "source": [
    "from pyspark.ml import Pipeline\n",
    "from pyspark.ml.classification import LogisticRegression\n",
    "\n",
    "classifier = LogisticRegression(regParam=0.01, labelCol = 'label', featuresCol = 'features')\n",
    "\n",
    "pipeline = Pipeline(stages=[label_indexer, assembler, classifier])\n",
    "\n",
    "(train, test) = churn_data.randomSplit([0.7, 0.3])\n",
    "model = pipeline.fit(train)"
   ]
  },
  {
   "cell_type": "code",
   "execution_count": 60,
   "metadata": {},
   "outputs": [
    {
     "data": {
      "text/plain": [
       "'The AUROC is 0.911083977750646 and the AUPR is 0.513134381317285 and raw is 0.911083977750646.'"
      ]
     },
     "execution_count": 60,
     "metadata": {},
     "output_type": "execute_result"
    }
   ],
   "source": [
    "from pyspark.ml.evaluation import BinaryClassificationEvaluator\n",
    "\n",
    "predictions = model.transform(test)\n",
    "evaluator = BinaryClassificationEvaluator()\n",
    "auroc = evaluator.evaluate(predictions, {evaluator.metricName: \"areaUnderROC\"})\n",
    "aupr = evaluator.evaluate(predictions, {evaluator.metricName: \"areaUnderPR\"})\n",
    "raw = evaluator.evaluate(predictions)\n",
    "\"The AUROC is %s and the AUPR is %s and raw is %s.\" % (auroc, aupr, raw)"
   ]
  }
 ],
 "metadata": {
  "celltoolbar": "Raw Cell Format",
  "kernelspec": {
   "display_name": "Python 3",
   "language": "python",
   "name": "python3"
  },
  "language_info": {
   "codemirror_mode": {
    "name": "ipython",
    "version": 3.0
   },
   "file_extension": ".py",
   "mimetype": "text/x-python",
   "name": "python",
   "nbconvert_exporter": "python",
   "pygments_lexer": "ipython3",
   "version": "3.5.2"
  }
 },
 "nbformat": 4,
 "nbformat_minor": 0
}